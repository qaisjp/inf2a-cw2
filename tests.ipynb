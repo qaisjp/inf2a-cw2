{
 "cells": [
  {
   "cell_type": "markdown",
   "metadata": {},
   "source": [
    "# INF2A - Coursework 2"
   ]
  },
  {
   "cell_type": "markdown",
   "metadata": {},
   "source": [
    "First we need to load some stuff, and some helpers..."
   ]
  },
  {
   "cell_type": "code",
   "execution_count": 56,
   "metadata": {},
   "outputs": [],
   "source": [
    "%reload_ext autoreload\n",
    "%autoreload 1\n",
    "%aimport statements\n",
    "\n",
    "def error(str, *args):\n",
    "    print(\"\\x1b[31mERROR!!\\x1b[0m \" + str.format(*args))\n",
    "\n",
    "def success(str, *args):\n",
    "    print(\"\\x1b[32mSUCCESS\\x1b[0m \" + str.format(*args))\n",
    "\n",
    "def equals(a, b, msg=\"\"):\n",
    "    if a != b:\n",
    "        if msg:\n",
    "            msg += \" - \"\n",
    "        error(\"{}{!r} should be {!r}\", msg, a, b)\n",
    "    elif msg:\n",
    "        success(msg)"
   ]
  },
  {
   "cell_type": "markdown",
   "metadata": {},
   "source": [
    "## Part A\n",
    "\n",
    "### Question 1\n",
    "Now we need to test the Lexicon code of Part A"
   ]
  },
  {
   "cell_type": "code",
   "execution_count": 57,
   "metadata": {},
   "outputs": [
    {
     "name": "stdout",
     "output_type": "stream",
     "text": [
      "\u001b[32mSUCCESS\u001b[0m Proper names should update\n",
      "\u001b[32mSUCCESS\u001b[0m Transitives should work\n",
      "\u001b[32mSUCCESS\u001b[0m A word with multiple categories should work\n",
      "\u001b[32mSUCCESS\u001b[0m A word with multiple categories should work\n"
     ]
    }
   ],
   "source": [
    "from statements import Lexicon\n",
    "\n",
    "# Create the Lexicon\n",
    "lx = Lexicon()\n",
    "\n",
    "lx.add(\"John\", \"P\")\n",
    "lx.add(\"Mary\", \"P\")\n",
    "lx.add(\"Mary\", \"P\") # test duplicates\n",
    "lx.add(\"like\", \"T\")\n",
    "\n",
    "# list of \"P\" (should be unique entries only)\n",
    "proper_names = lx.getAll(\"P\")\n",
    "transitives = lx.getAll(\"T\")\n",
    "\n",
    "# Proper names should be ['John', 'Mary']\n",
    "equals(proper_names, [\"John\", \"Mary\"], \"Proper names should update\")\n",
    "\n",
    "# Transitives should be just \"like\"\n",
    "equals(transitives, [\"like\"], \"Transitives should work\")\n",
    "\n",
    "# Adding drinks to both N and T.\n",
    "lx.add(\"drinks\", \"N\")\n",
    "lx.add(\"drinks\", \"T\")\n",
    "\n",
    "equals(lx.getAll(\"T\"), [\"like\", \"drinks\"], \"A word with multiple categories should work\")\n",
    "equals(lx.getAll(\"N\"), [\"drinks\"], \"A word with multiple categories should work\")"
   ]
  },
  {
   "cell_type": "markdown",
   "metadata": {},
   "source": [
    "### Question 2"
   ]
  },
  {
   "cell_type": "code",
   "execution_count": 58,
   "metadata": {},
   "outputs": [
    {
     "name": "stdout",
     "output_type": "stream",
     "text": [
      "\u001b[32mSUCCESS\u001b[0m John should be a duck\n",
      "\u001b[32mSUCCESS\u001b[0m John should love Mary\n",
      "\u001b[32mSUCCESS\u001b[0m Mary should not love John\n"
     ]
    }
   ],
   "source": [
    "from statements import FactBase\n",
    "\n",
    "# Create the FactBase\n",
    "fb = FactBase()\n",
    "\n",
    "fb.addUnary(\"duck\", \"John\")\n",
    "fb.addBinary(\"love\", \"John\", \"Mary\")\n",
    "\n",
    "equals(True, fb.queryUnary(\"duck\", \"John\"), \"John should be a duck\")\n",
    "equals(True, fb.queryBinary(\"love\", \"John\", \"Mary\"), \"John should love Mary\")\n",
    "equals(False, fb.queryBinary(\"love\", \"Mary\", \"John\"), \"Mary should not love John\")"
   ]
  },
  {
   "cell_type": "markdown",
   "metadata": {},
   "source": [
    "### Question 3, 4"
   ]
  },
  {
   "cell_type": "code",
   "execution_count": 59,
   "metadata": {},
   "outputs": [
    {
     "name": "stdout",
     "output_type": "stream",
     "text": [
      "\u001b[32mSUCCESS\u001b[0m (8) Stem of 'likes' is 'like'\n",
      "\u001b[32mSUCCESS\u001b[0m (8) Stem of 'hates' is 'hate'\n",
      "\u001b[32mSUCCESS\u001b[0m (8) Stem of 'bathes' is 'bathe'\n",
      "\u001b[32mSUCCESS\u001b[0m (7) Stem of 'has' is 'have'\n",
      "\u001b[32mSUCCESS\u001b[0m (6) Stem of 'loses' is 'lose'\n",
      "\u001b[32mSUCCESS\u001b[0m (6) Stem of 'lazes' is 'laze'\n",
      "\u001b[32mSUCCESS\u001b[0m (6) Stem of 'lapses' is 'lapse'\n",
      "\u001b[32mSUCCESS\u001b[0m (6) Stem of 'analyzes' is 'analyze'\n",
      "\u001b[32mSUCCESS\u001b[0m (6) Stem of 'analyzses' is 'analyzse'\n",
      "\u001b[32mSUCCESS\u001b[0m (6) Stem of 'analyszes' is 'analysze'\n",
      "\u001b[32mSUCCESS\u001b[0m (5) Stem of 'crosses' is 'cross'\n",
      "\u001b[32mSUCCESS\u001b[0m (5) Stem of 'lizzes' is 'lizz'\n",
      "\u001b[32mSUCCESS\u001b[0m (5) Stem of 'goes' is 'go'\n",
      "\u001b[32mSUCCESS\u001b[0m (5) Stem of 'boxes' is 'box'\n",
      "\u001b[32mSUCCESS\u001b[0m (5) Stem of 'attaches' is 'attach'\n",
      "\u001b[32mSUCCESS\u001b[0m (5) Stem of 'washes' is 'wash'\n",
      "\u001b[32mSUCCESS\u001b[0m (5) Stem of 'dresses' is 'dress'\n",
      "\u001b[32mSUCCESS\u001b[0m (5) Stem of 'fizzes' is 'fizz'\n",
      "\u001b[32mSUCCESS\u001b[0m (4) Stem of 'dies' is 'die'\n",
      "\u001b[32mSUCCESS\u001b[0m (4) Stem of 'lies' is 'lie'\n",
      "\u001b[32mSUCCESS\u001b[0m (4) Stem of 'ties' is 'tie'\n",
      "\u001b[32mSUCCESS\u001b[0m (3) Stem of 'unties' is 'unty'\n",
      "\u001b[32mSUCCESS\u001b[0m (3) Stem of 'flies' is 'fly'\n",
      "\u001b[32mSUCCESS\u001b[0m (3) Stem of 'tries' is 'try'\n",
      "\u001b[32mSUCCESS\u001b[0m (3) Stem of 'unifies' is 'unify'\n",
      "\u001b[32mSUCCESS\u001b[0m (2) Stem of 'pays' is 'pay'\n",
      "\u001b[32mSUCCESS\u001b[0m (2) Stem of 'buys' is 'buy'\n",
      "\u001b[32mSUCCESS\u001b[0m (1) Stem of 'eats' is 'eat'\n",
      "\u001b[32mSUCCESS\u001b[0m (1) Stem of 'tells' is 'tell'\n",
      "\u001b[32mSUCCESS\u001b[0m (1) Stem of 'shows' is 'show'\n",
      "\u001b[32mSUCCESS\u001b[0m (-1) Stem of 'as' is ''\n",
      "\u001b[32mSUCCESS\u001b[0m (8) Stem of 'es' is 'e'\n",
      "\u001b[32mSUCCESS\u001b[0m (-1) Stem of 'is' is ''\n",
      "\u001b[32mSUCCESS\u001b[0m (-1) Stem of 'os' is ''\n",
      "\u001b[32mSUCCESS\u001b[0m (-1) Stem of 'us' is ''\n",
      "\u001b[32mSUCCESS\u001b[0m (-1) Stem of 'ys' is ''\n",
      "\u001b[32mSUCCESS\u001b[0m (-1) Stem of 'flys' is ''\n",
      "\u001b[32mSUCCESS\u001b[0m verb_stem('es') == 'e'\n",
      "\u001b[32mSUCCESS\u001b[0m 'fizzes' shouldn't be allowed by verb_stem\n"
     ]
    }
   ],
   "source": [
    "from statements import threes_stem, verb_stem, get_verb_stem_stream\n",
    "\n",
    "def test(verb, expectedStem, stream):\n",
    "    # get stem, also update stream\n",
    "    stem = threes_stem(verb)\n",
    "    \n",
    "    if get_verb_stem_stream() != stream:\n",
    "        error(\n",
    "            \"({!r}) Verb {!r} is using incorrect stream {!r}. P.S. got:{!r}, expected:{!r}\",\n",
    "                stream, verb, get_verb_stem_stream(), stem, expectedStem\n",
    "        )\n",
    "        return\n",
    "    \n",
    "    if stem == expectedStem:\n",
    "        success(\"({!r}) Stem of {!r} is {!r}\".format(stream, verb, stem))\n",
    "        return\n",
    "\n",
    "    error(\"({!r}) Stem of {!r} is {!r}, should be {!r}\".format(stream, verb, stem, expectedStem))\n",
    "\n",
    "tests = [\n",
    "    # 8. ends in es, but not preceded by i,o,s,x,z,ch,sh; chops s off\n",
    "    (\"likes\", \"like\", 8),\n",
    "    (\"hates\", \"hate\", 8),\n",
    "    (\"bathes\", \"bathe\", 8),\n",
    "    \n",
    "    # 7. has -> have\n",
    "    (\"has\", \"have\", 7),\n",
    "    \n",
    "    # 6. ends in ses or zes, but not sses or zzes; chops s off\n",
    "    (\"loses\", \"lose\", 6),\n",
    "    (\"lazes\", \"laze\", 6),\n",
    "    (\"lapses\", \"lapse\", 6),\n",
    "    (\"analyzes\", \"analyze\", 6),\n",
    "    (\"analyzses\", \"analyzse\", 6), # not corpus\n",
    "    (\"analyszes\", \"analysze\", 6), # not corpus\n",
    "    \n",
    "    # 5. ends in oes,xes,ches,shes,sses,zzes; chop es off\n",
    "    (\"crosses\", \"cross\", 5), # ensures not 5\n",
    "    (\"lizzes\", \"lizz\", 5), # ensures not 5, not in corpus\n",
    "    (\"goes\", \"go\", 5),\n",
    "    (\"boxes\", \"box\", 5),\n",
    "    (\"attaches\", \"attach\", 5),\n",
    "    (\"washes\", \"wash\", 5),\n",
    "    (\"dresses\", \"dress\", 5),\n",
    "    (\"fizzes\", \"fizz\", 5), # not in corpus\n",
    "    \n",
    "    # 4. ends in Xies, where X is a single character consonant\n",
    "    (\"dies\", \"die\", 4),\n",
    "    (\"lies\", \"lie\", 4),\n",
    "    (\"ties\", \"tie\", 4),\n",
    "    \n",
    "    # 3. Xies -> Xy, where X is atleast 2 chars long, X not ending with a vowel\n",
    "    (\"unties\", \"unty\", 3), # ensures not 4, not in corpus\n",
    "    (\"flies\", \"fly\", 3),\n",
    "    (\"tries\", \"try\", 3),\n",
    "    (\"unifies\", \"unify\", 3),\n",
    "    \n",
    "    # 2. Xys -> Xy, where X ends with a vowel\n",
    "    (\"pays\", \"pay\", 2),\n",
    "    (\"buys\", \"buy\", 2),\n",
    "    \n",
    "    # 1. Xs -> X, where X does not end with a vowel, or s,x,y,z,ch,sh\n",
    "    (\"eats\", \"eat\", 1),\n",
    "    (\"tells\", \"tell\", 1),\n",
    "    (\"shows\", \"show\", 1),\n",
    "    (\"as\", \"\", -1),\n",
    "    (\"es\", \"e\", 8), # should return empty because of Question 4\n",
    "    (\"is\", \"\", -1),\n",
    "    (\"os\", \"\", -1),\n",
    "    (\"us\", \"\", -1),\n",
    "    \n",
    "    \n",
    "    # -1 (other invalid inputs)\n",
    "    (\"ys\", \"\", -1),\n",
    "    (\"flys\", \"\", -1),\n",
    "]\n",
    "\n",
    "for verb, stem, stream in tests:\n",
    "    test(verb, stem, stream)\n",
    "\n",
    "equals(\"\", verb_stem(\"es\"), \"verb_stem('es') == 'e'\")\n",
    "equals(\"\", verb_stem(\"fizzes\"), \"'fizzes' shouldn't be allowed by verb_stem\")"
   ]
  },
  {
   "cell_type": "markdown",
   "metadata": {},
   "source": [
    "## Part B"
   ]
  },
  {
   "cell_type": "code",
   "execution_count": 60,
   "metadata": {},
   "outputs": [
    {
     "name": "stdout",
     "output_type": "stream",
     "text": [
      "\u001b[32mSUCCESS\u001b[0m Unchanging plurals list should be correct\n"
     ]
    }
   ],
   "source": [
    "import pos_tagging\n",
    "reload(pos_tagging)\n",
    "\n",
    "from pos_tagging import unchanging_plurals_list\n",
    "\n",
    "equals(unchanging_plurals_list, ['sheep',\n",
    " 'moose',\n",
    " 'dna',\n",
    " 'series',\n",
    " 'fish',\n",
    " 'multimedia',\n",
    " 'deer',\n",
    " 'headquarters',\n",
    " 'marijuana',\n",
    " 'salmon',\n",
    " 'cannabis',\n",
    " 'bison',\n",
    " 'swine',\n",
    " 'police',\n",
    " 'buffalo',\n",
    " 'species',\n",
    " 'trout'], \"Unchanging plurals list should be correct\")"
   ]
  }
 ],
 "metadata": {
  "kernelspec": {
   "display_name": "Python 2",
   "language": "python",
   "name": "python2"
  }
 },
 "nbformat": 4,
 "nbformat_minor": 2
}
