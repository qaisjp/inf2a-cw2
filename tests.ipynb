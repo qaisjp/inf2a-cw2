{
 "cells": [
  {
   "cell_type": "markdown",
   "metadata": {},
   "source": [
    "# INF2A - Coursework 2"
   ]
  },
  {
   "cell_type": "markdown",
   "metadata": {},
   "source": [
    "First we need to load the libraries (enforcing a reload as we run tests here frequently...)"
   ]
  },
  {
   "cell_type": "code",
   "execution_count": 87,
   "metadata": {},
   "outputs": [],
   "source": [
    "import statements\n",
    "reload(statements)\n",
    "from statements import *"
   ]
  },
  {
   "cell_type": "markdown",
   "metadata": {},
   "source": [
    "## Part A\n",
    "\n",
    "### Question 1\n",
    "Now we need to test the Lexicon code of Part A"
   ]
  },
  {
   "cell_type": "code",
   "execution_count": 88,
   "metadata": {},
   "outputs": [],
   "source": [
    "# Create the Lexicon\n",
    "lx = Lexicon()\n",
    "\n",
    "lx.add(\"John\", \"P\")\n",
    "lx.add(\"Mary\", \"P\")\n",
    "lx.add(\"Mary\", \"P\") # test duplicates\n",
    "lx.add(\"like\", \"T\")\n",
    "\n",
    "# list of \"P\" (should be unique entries only)\n",
    "proper_names = lx.getAll(\"P\")\n",
    "\n",
    "# Should be ['John', 'Mary']\n",
    "assert(proper_names == [\"John\", \"Mary\"])"
   ]
  },
  {
   "cell_type": "markdown",
   "metadata": {},
   "source": [
    "### Question 2"
   ]
  },
  {
   "cell_type": "code",
   "execution_count": 89,
   "metadata": {},
   "outputs": [],
   "source": [
    "# Create the FactBase\n",
    "fb = FactBase()\n",
    "\n",
    "fb.addUnary(\"duck\", \"John\")\n",
    "fb.addBinary(\"love\", \"John\", \"Mary\")\n",
    "\n",
    "assert(fb.queryUnary(\"duck\", \"John\"))\n",
    "assert(not fb.queryBinary(\"love\", \"Mary\", \"John\"))"
   ]
  }
 ],
 "metadata": {
  "kernelspec": {
   "display_name": "Python 2",
   "language": "python",
   "name": "python2"
  },
  "language_info": {
   "codemirror_mode": {
    "name": "ipython",
    "version": 2
   },
   "file_extension": ".py",
   "mimetype": "text/x-python",
   "name": "python",
   "nbconvert_exporter": "python",
   "pygments_lexer": "ipython2",
   "version": "2.7.5"
  }
 },
 "nbformat": 4,
 "nbformat_minor": 2
}
